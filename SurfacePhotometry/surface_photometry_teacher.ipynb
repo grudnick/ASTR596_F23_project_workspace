{
 "cells": [
  {
   "cell_type": "markdown",
   "metadata": {},
   "source": [
    "# ASTR 596 Fall 2023 - Surface photometry lab (50 Points)\n",
    "In this lab we will be performing surface photometry of two nearby galaxies, an elliptical and a spiral.  \n",
    "\n",
    "This lab will be done via a mixture of python commands using the photutils aperture photometry package (https://photutils.readthedocs.io/en/stable/aperture.html) and the photutils isophote fitting package (https://photutils.readthedocs.io/en/stable/isophote.html).  We will also be using imexam and ds9.\n",
    "\n",
    "In this lab you will learn how to do the following things:\n",
    "* estimate the background for an image and subtract it;\n",
    "* estimate initial guesses for input parameters to an isophotal fitting code using ds9;\n",
    "* fit elliptical isophotes;\n",
    "* use photometry within these isophotes to measure the radial profile of various parameters;\n",
    "* compute the radius within which half the total light is contained.  This is called the effective radius.\n",
    "\n",
    "<i>Note: Enter in all code to the problems in the provided notebook cells. Questions to answer will be <b>bolded</b>.</i>  \n",
    "\n",
    "All your answers should be entered in this notebook. Each student will need to hand in their own notebook by uploading it to GitHub following the instructions.\n",
    "\n",
    "In the code places where you will need to put something or write your own code are specified by `#***************`  You will not get points for doing this unless explicitly noted.  Some of these things are just to make sure you are setting up your paths correctly.\n",
    "\n",
    "**Due on <font color='red'>11/20 at Noon</font>** to be handed into the \"Surface Photometry\" assignment in <font color='red'>Module 7</font>.\n",
    "\n",
    "You will need to download the raw data.  You can access it at https://www.dropbox.com/t/9JMlIMfRblkfGiAY directory.  There are four galaxy images.  You will need to measure something from all of them.  The galaxies are:\n",
    "* NGC 3982\n",
    "* NGC 5198\n",
    "* NGC 5985\n",
    "* PCG 0997820\n",
    "\n",
    "I suggest you make a directory on your computer called `~/ASTR596/Data` and put data in there.  "
   ]
  },
  {
   "cell_type": "code",
   "execution_count": 1,
   "metadata": {},
   "outputs": [],
   "source": [
    "#import \n",
    "from astropy.stats import sigma_clipped_stats\n",
    "from astropy.visualization import SqrtStretch\n",
    "from astropy.visualization.mpl_normalize import ImageNormalize\n",
    "from astropy.wcs import WCS\n",
    "from astropy.io import fits\n",
    "import glob\n",
    "import os\n",
    "from scipy.stats import scoreatpercentile\n",
    "import astropy.units as u\n",
    "from scipy import stats\n",
    "\n",
    "from matplotlib.patches import Rectangle\n",
    "from matplotlib.collections import PatchCollection\n",
    "from matplotlib import pyplot as plt\n",
    "import numpy as np\n",
    "from matplotlib import colors\n",
    "\n",
    "\n",
    "from astropy.nddata import CCDData\n",
    "#from ccdproc import ImageFileCollection, Combiner, combine\n",
    "from ccdproc import wcs_project"
   ]
  },
  {
   "cell_type": "markdown",
   "metadata": {},
   "source": [
    "### Some functions to display the images and overplot the stars"
   ]
  },
  {
   "cell_type": "code",
   "execution_count": 2,
   "metadata": {},
   "outputs": [],
   "source": [
    "def imdisplay(image, v1perc=10, v2perc=95, logscale=True):\n",
    "    '''\n",
    "    display an image \n",
    "    OPTIONAL KEYWORD PARAMETERS\n",
    "    v1perc: one end of the colormap assigned to the v1perc percent lowest flux \n",
    "    v2perc: the other end of the colormap assigned to the v2perc percent highest flux    \n",
    "    '''\n",
    "    # make sure image is an np array\n",
    "    nimage = np.array(image)\n",
    "    # determine the pixel values at the 10th and 95th percentile\n",
    "    v1 = scoreatpercentile(nimage,v1perc)\n",
    "    v2 = scoreatpercentile(nimage,v2perc)\n",
    "    # display using imshow\n",
    "    #\n",
    "    # you can play with alternate cmaps in the function below, such as \"viridis\" or \"gray\"\n",
    "    # The 'gray_r' color map reverses the color-scale so that dark display pixels are the brightest in the image\n",
    "    #\n",
    "    # vmin and vmax set the min and max pixel values that\n",
    "    # will be mapped to the extremes of the colormap\n",
    "    print(v1,v2)\n",
    "    if (logscale):\n",
    "        im = ax.imshow(nimage,cmap='gray_r',aspect='equal',norm=colors.LogNorm(vmin=v1,vmax=v2),origin='lower')\n",
    "    else:\n",
    "        im = ax.imshow(nimage,cmap='gray_r',aspect='equal',vmin=v1,vmax=v2,origin='lower')\n",
    "        \n",
    "    cbar = fig.colorbar(im, ax=ax, fraction=0.04)\n",
    "    cbar.ax.set_ylabel('counts')\n",
    "    return fig,ax\n",
    "    #fig.colorbar(fraction=.08)"
   ]
  },
  {
   "cell_type": "code",
   "execution_count": 3,
   "metadata": {},
   "outputs": [],
   "source": [
    "#***************\n",
    "#put your data directory here\n",
    "#datadir = '/Users/grudnick/Work/Teaching/Classes/Astro_596/Fall_2023/Computer_Projects/ASTR596_F23_project_workspace/SurfacePhotometry/Data'\n",
    "datadir = '/home/grudnick/ASTR596/Data/Surface_Photometry'\n",
    "os.chdir(datadir)"
   ]
  },
  {
   "cell_type": "markdown",
   "metadata": {},
   "source": [
    "## Display the image in DS9\n",
    "\n",
    "SAOimage DS9 is a popular and easy to use image viewer.  There are various tutorials at https://sites.google.com/cfa.harvard.edu/saoimageds9/documentation?authuser=0 .\n",
    "\n",
    "Here is another third party tutorial https://astrobites.org/2011/03/09/how-to-use-sao-ds9-to-examine-astronomical-images/ \n",
    "\n",
    "In the following description I will refer to menu choices as those at the top of the screen or window.  I will refer to buttons as the double line of buttons right above where the image is displayed.  I will refer to sub buttons with **button1**->**button2**\n",
    "\n",
    "1. In DS9 open `NGC3982-custom-image-r.fits`\n",
    "2. Under the **scale** button choose **log** and **zscale**.  In the Menu bar choose Scale->Scale parameters.  In the \"high\" box choose 3.\n",
    "3. Use the right mouse button to change the stretch on the image.  You may need to select the **edit**->**none** or **edit**->**colorbar** button for this to work.\n"
   ]
  },
  {
   "cell_type": "markdown",
   "metadata": {},
   "source": [
    "## Problem 1 - Estimate the background and subtract it (5 Points)\n",
    "\n",
    "Before performing photometry you need to subtract off the background.  To do this for this exercise you are going to:\n",
    "1. pick a square region in each of the 4 corners of the image and compute the best estimate of the background level over all the pixels in these areas.  Note that the straight average may not be the best option.\n",
    "2. subtract this background level from the image \n",
    "3. display the background subtracted image"
   ]
  },
  {
   "cell_type": "markdown",
   "metadata": {},
   "source": [
    "#### 1. compute background level\n",
    "Here is an example of how to display an image with a log scaling."
   ]
  },
  {
   "cell_type": "code",
   "execution_count": 4,
   "metadata": {},
   "outputs": [
    {
     "ename": "FileNotFoundError",
     "evalue": "[Errno 2] No such file or directory: 'NGC3982-custom-image-r.bkg.fits'",
     "output_type": "error",
     "traceback": [
      "\u001b[0;31m---------------------------------------------------------------------------\u001b[0m",
      "\u001b[0;31mFileNotFoundError\u001b[0m                         Traceback (most recent call last)",
      "Cell \u001b[0;32mIn[4], line 3\u001b[0m\n\u001b[1;32m      1\u001b[0m imname \u001b[38;5;241m=\u001b[39m \u001b[38;5;124m'\u001b[39m\u001b[38;5;124mNGC3982-custom-image-r.bkg.fits\u001b[39m\u001b[38;5;124m'\u001b[39m\n\u001b[1;32m      2\u001b[0m fig,ax \u001b[38;5;241m=\u001b[39m plt\u001b[38;5;241m.\u001b[39msubplots(figsize\u001b[38;5;241m=\u001b[39m(\u001b[38;5;241m6\u001b[39m,\u001b[38;5;241m6\u001b[39m))\n\u001b[0;32m----> 3\u001b[0m data,header \u001b[38;5;241m=\u001b[39m \u001b[43mfits\u001b[49m\u001b[38;5;241;43m.\u001b[39;49m\u001b[43mgetdata\u001b[49m\u001b[43m(\u001b[49m\u001b[43mimname\u001b[49m\u001b[43m,\u001b[49m\u001b[43m \u001b[49m\u001b[43mheader\u001b[49m\u001b[38;5;241;43m=\u001b[39;49m\u001b[38;5;28;43;01mTrue\u001b[39;49;00m\u001b[43m)\u001b[49m\n\u001b[1;32m      4\u001b[0m imdisplay(data,v1perc\u001b[38;5;241m=\u001b[39m\u001b[38;5;241m1\u001b[39m,v2perc\u001b[38;5;241m=\u001b[39m\u001b[38;5;241m99.9\u001b[39m,logscale\u001b[38;5;241m=\u001b[39m\u001b[38;5;28;01mTrue\u001b[39;00m)\n\u001b[1;32m      6\u001b[0m plt\u001b[38;5;241m.\u001b[39mtitle(imname)\n",
      "File \u001b[0;32m~/.conda/envs/env1/lib/python3.10/site-packages/astropy/io/fits/convenience.py:221\u001b[0m, in \u001b[0;36mgetdata\u001b[0;34m(filename, header, lower, upper, view, *args, **kwargs)\u001b[0m\n\u001b[1;32m    216\u001b[0m extver \u001b[38;5;241m=\u001b[39m kwargs\u001b[38;5;241m.\u001b[39mget(\u001b[38;5;124m\"\u001b[39m\u001b[38;5;124mextver\u001b[39m\u001b[38;5;124m\"\u001b[39m)\n\u001b[1;32m    217\u001b[0m ext_given \u001b[38;5;241m=\u001b[39m \u001b[38;5;129;01mnot\u001b[39;00m (\n\u001b[1;32m    218\u001b[0m     \u001b[38;5;28mlen\u001b[39m(args) \u001b[38;5;241m==\u001b[39m \u001b[38;5;241m0\u001b[39m \u001b[38;5;129;01mand\u001b[39;00m ext \u001b[38;5;129;01mis\u001b[39;00m \u001b[38;5;28;01mNone\u001b[39;00m \u001b[38;5;129;01mand\u001b[39;00m extname \u001b[38;5;129;01mis\u001b[39;00m \u001b[38;5;28;01mNone\u001b[39;00m \u001b[38;5;129;01mand\u001b[39;00m extver \u001b[38;5;129;01mis\u001b[39;00m \u001b[38;5;28;01mNone\u001b[39;00m\n\u001b[1;32m    219\u001b[0m )\n\u001b[0;32m--> 221\u001b[0m hdulist, extidx \u001b[38;5;241m=\u001b[39m \u001b[43m_getext\u001b[49m\u001b[43m(\u001b[49m\u001b[43mfilename\u001b[49m\u001b[43m,\u001b[49m\u001b[43m \u001b[49m\u001b[43mmode\u001b[49m\u001b[43m,\u001b[49m\u001b[43m \u001b[49m\u001b[38;5;241;43m*\u001b[39;49m\u001b[43margs\u001b[49m\u001b[43m,\u001b[49m\u001b[43m \u001b[49m\u001b[38;5;241;43m*\u001b[39;49m\u001b[38;5;241;43m*\u001b[39;49m\u001b[43mkwargs\u001b[49m\u001b[43m)\u001b[49m\n\u001b[1;32m    222\u001b[0m \u001b[38;5;28;01mtry\u001b[39;00m:\n\u001b[1;32m    223\u001b[0m     hdu \u001b[38;5;241m=\u001b[39m hdulist[extidx]\n",
      "File \u001b[0;32m~/.conda/envs/env1/lib/python3.10/site-packages/astropy/io/fits/convenience.py:1125\u001b[0m, in \u001b[0;36m_getext\u001b[0;34m(filename, mode, ext, extname, extver, *args, **kwargs)\u001b[0m\n\u001b[1;32m   1122\u001b[0m \u001b[38;5;28;01melif\u001b[39;00m extver \u001b[38;5;129;01mand\u001b[39;00m extname \u001b[38;5;129;01mis\u001b[39;00m \u001b[38;5;28;01mNone\u001b[39;00m:\n\u001b[1;32m   1123\u001b[0m     \u001b[38;5;28;01mraise\u001b[39;00m \u001b[38;5;167;01mTypeError\u001b[39;00m(\u001b[38;5;124m\"\u001b[39m\u001b[38;5;124mextver alone cannot specify an extension.\u001b[39m\u001b[38;5;124m\"\u001b[39m)\n\u001b[0;32m-> 1125\u001b[0m hdulist \u001b[38;5;241m=\u001b[39m \u001b[43mfitsopen\u001b[49m\u001b[43m(\u001b[49m\u001b[43mfilename\u001b[49m\u001b[43m,\u001b[49m\u001b[43m \u001b[49m\u001b[43mmode\u001b[49m\u001b[38;5;241;43m=\u001b[39;49m\u001b[43mmode\u001b[49m\u001b[43m,\u001b[49m\u001b[43m \u001b[49m\u001b[38;5;241;43m*\u001b[39;49m\u001b[38;5;241;43m*\u001b[39;49m\u001b[43mkwargs\u001b[49m\u001b[43m)\u001b[49m\n\u001b[1;32m   1127\u001b[0m \u001b[38;5;28;01mreturn\u001b[39;00m hdulist, ext\n",
      "File \u001b[0;32m~/.conda/envs/env1/lib/python3.10/site-packages/astropy/io/fits/hdu/hdulist.py:214\u001b[0m, in \u001b[0;36mfitsopen\u001b[0;34m(name, mode, memmap, save_backup, cache, lazy_load_hdus, ignore_missing_simple, use_fsspec, fsspec_kwargs, **kwargs)\u001b[0m\n\u001b[1;32m    211\u001b[0m \u001b[38;5;28;01mif\u001b[39;00m \u001b[38;5;129;01mnot\u001b[39;00m name:\n\u001b[1;32m    212\u001b[0m     \u001b[38;5;28;01mraise\u001b[39;00m \u001b[38;5;167;01mValueError\u001b[39;00m(\u001b[38;5;124mf\u001b[39m\u001b[38;5;124m\"\u001b[39m\u001b[38;5;124mEmpty filename: \u001b[39m\u001b[38;5;132;01m{\u001b[39;00mname\u001b[38;5;132;01m!r}\u001b[39;00m\u001b[38;5;124m\"\u001b[39m)\n\u001b[0;32m--> 214\u001b[0m \u001b[38;5;28;01mreturn\u001b[39;00m \u001b[43mHDUList\u001b[49m\u001b[38;5;241;43m.\u001b[39;49m\u001b[43mfromfile\u001b[49m\u001b[43m(\u001b[49m\n\u001b[1;32m    215\u001b[0m \u001b[43m    \u001b[49m\u001b[43mname\u001b[49m\u001b[43m,\u001b[49m\n\u001b[1;32m    216\u001b[0m \u001b[43m    \u001b[49m\u001b[43mmode\u001b[49m\u001b[43m,\u001b[49m\n\u001b[1;32m    217\u001b[0m \u001b[43m    \u001b[49m\u001b[43mmemmap\u001b[49m\u001b[43m,\u001b[49m\n\u001b[1;32m    218\u001b[0m \u001b[43m    \u001b[49m\u001b[43msave_backup\u001b[49m\u001b[43m,\u001b[49m\n\u001b[1;32m    219\u001b[0m \u001b[43m    \u001b[49m\u001b[43mcache\u001b[49m\u001b[43m,\u001b[49m\n\u001b[1;32m    220\u001b[0m \u001b[43m    \u001b[49m\u001b[43mlazy_load_hdus\u001b[49m\u001b[43m,\u001b[49m\n\u001b[1;32m    221\u001b[0m \u001b[43m    \u001b[49m\u001b[43mignore_missing_simple\u001b[49m\u001b[43m,\u001b[49m\n\u001b[1;32m    222\u001b[0m \u001b[43m    \u001b[49m\u001b[43muse_fsspec\u001b[49m\u001b[38;5;241;43m=\u001b[39;49m\u001b[43muse_fsspec\u001b[49m\u001b[43m,\u001b[49m\n\u001b[1;32m    223\u001b[0m \u001b[43m    \u001b[49m\u001b[43mfsspec_kwargs\u001b[49m\u001b[38;5;241;43m=\u001b[39;49m\u001b[43mfsspec_kwargs\u001b[49m\u001b[43m,\u001b[49m\n\u001b[1;32m    224\u001b[0m \u001b[43m    \u001b[49m\u001b[38;5;241;43m*\u001b[39;49m\u001b[38;5;241;43m*\u001b[39;49m\u001b[43mkwargs\u001b[49m\u001b[43m,\u001b[49m\n\u001b[1;32m    225\u001b[0m \u001b[43m\u001b[49m\u001b[43m)\u001b[49m\n",
      "File \u001b[0;32m~/.conda/envs/env1/lib/python3.10/site-packages/astropy/io/fits/hdu/hdulist.py:482\u001b[0m, in \u001b[0;36mHDUList.fromfile\u001b[0;34m(cls, fileobj, mode, memmap, save_backup, cache, lazy_load_hdus, ignore_missing_simple, **kwargs)\u001b[0m\n\u001b[1;32m    462\u001b[0m \u001b[38;5;129m@classmethod\u001b[39m\n\u001b[1;32m    463\u001b[0m \u001b[38;5;28;01mdef\u001b[39;00m \u001b[38;5;21mfromfile\u001b[39m(\n\u001b[1;32m    464\u001b[0m     \u001b[38;5;28mcls\u001b[39m,\n\u001b[0;32m   (...)\u001b[0m\n\u001b[1;32m    472\u001b[0m     \u001b[38;5;241m*\u001b[39m\u001b[38;5;241m*\u001b[39mkwargs,\n\u001b[1;32m    473\u001b[0m ):\n\u001b[1;32m    474\u001b[0m \u001b[38;5;250m    \u001b[39m\u001b[38;5;124;03m\"\"\"\u001b[39;00m\n\u001b[1;32m    475\u001b[0m \u001b[38;5;124;03m    Creates an `HDUList` instance from a file-like object.\u001b[39;00m\n\u001b[1;32m    476\u001b[0m \n\u001b[0;32m   (...)\u001b[0m\n\u001b[1;32m    479\u001b[0m \u001b[38;5;124;03m    documentation for details of the parameters accepted by this method).\u001b[39;00m\n\u001b[1;32m    480\u001b[0m \u001b[38;5;124;03m    \"\"\"\u001b[39;00m\n\u001b[0;32m--> 482\u001b[0m     \u001b[38;5;28;01mreturn\u001b[39;00m \u001b[38;5;28;43mcls\u001b[39;49m\u001b[38;5;241;43m.\u001b[39;49m\u001b[43m_readfrom\u001b[49m\u001b[43m(\u001b[49m\n\u001b[1;32m    483\u001b[0m \u001b[43m        \u001b[49m\u001b[43mfileobj\u001b[49m\u001b[38;5;241;43m=\u001b[39;49m\u001b[43mfileobj\u001b[49m\u001b[43m,\u001b[49m\n\u001b[1;32m    484\u001b[0m \u001b[43m        \u001b[49m\u001b[43mmode\u001b[49m\u001b[38;5;241;43m=\u001b[39;49m\u001b[43mmode\u001b[49m\u001b[43m,\u001b[49m\n\u001b[1;32m    485\u001b[0m \u001b[43m        \u001b[49m\u001b[43mmemmap\u001b[49m\u001b[38;5;241;43m=\u001b[39;49m\u001b[43mmemmap\u001b[49m\u001b[43m,\u001b[49m\n\u001b[1;32m    486\u001b[0m \u001b[43m        \u001b[49m\u001b[43msave_backup\u001b[49m\u001b[38;5;241;43m=\u001b[39;49m\u001b[43msave_backup\u001b[49m\u001b[43m,\u001b[49m\n\u001b[1;32m    487\u001b[0m \u001b[43m        \u001b[49m\u001b[43mcache\u001b[49m\u001b[38;5;241;43m=\u001b[39;49m\u001b[43mcache\u001b[49m\u001b[43m,\u001b[49m\n\u001b[1;32m    488\u001b[0m \u001b[43m        \u001b[49m\u001b[43mignore_missing_simple\u001b[49m\u001b[38;5;241;43m=\u001b[39;49m\u001b[43mignore_missing_simple\u001b[49m\u001b[43m,\u001b[49m\n\u001b[1;32m    489\u001b[0m \u001b[43m        \u001b[49m\u001b[43mlazy_load_hdus\u001b[49m\u001b[38;5;241;43m=\u001b[39;49m\u001b[43mlazy_load_hdus\u001b[49m\u001b[43m,\u001b[49m\n\u001b[1;32m    490\u001b[0m \u001b[43m        \u001b[49m\u001b[38;5;241;43m*\u001b[39;49m\u001b[38;5;241;43m*\u001b[39;49m\u001b[43mkwargs\u001b[49m\u001b[43m,\u001b[49m\n\u001b[1;32m    491\u001b[0m \u001b[43m    \u001b[49m\u001b[43m)\u001b[49m\n",
      "File \u001b[0;32m~/.conda/envs/env1/lib/python3.10/site-packages/astropy/io/fits/hdu/hdulist.py:1170\u001b[0m, in \u001b[0;36mHDUList._readfrom\u001b[0;34m(cls, fileobj, data, mode, memmap, cache, lazy_load_hdus, ignore_missing_simple, use_fsspec, fsspec_kwargs, **kwargs)\u001b[0m\n\u001b[1;32m   1167\u001b[0m \u001b[38;5;28;01mif\u001b[39;00m fileobj \u001b[38;5;129;01mis\u001b[39;00m \u001b[38;5;129;01mnot\u001b[39;00m \u001b[38;5;28;01mNone\u001b[39;00m:\n\u001b[1;32m   1168\u001b[0m     \u001b[38;5;28;01mif\u001b[39;00m \u001b[38;5;129;01mnot\u001b[39;00m \u001b[38;5;28misinstance\u001b[39m(fileobj, _File):\n\u001b[1;32m   1169\u001b[0m         \u001b[38;5;66;03m# instantiate a FITS file object (ffo)\u001b[39;00m\n\u001b[0;32m-> 1170\u001b[0m         fileobj \u001b[38;5;241m=\u001b[39m \u001b[43m_File\u001b[49m\u001b[43m(\u001b[49m\n\u001b[1;32m   1171\u001b[0m \u001b[43m            \u001b[49m\u001b[43mfileobj\u001b[49m\u001b[43m,\u001b[49m\n\u001b[1;32m   1172\u001b[0m \u001b[43m            \u001b[49m\u001b[43mmode\u001b[49m\u001b[38;5;241;43m=\u001b[39;49m\u001b[43mmode\u001b[49m\u001b[43m,\u001b[49m\n\u001b[1;32m   1173\u001b[0m \u001b[43m            \u001b[49m\u001b[43mmemmap\u001b[49m\u001b[38;5;241;43m=\u001b[39;49m\u001b[43mmemmap\u001b[49m\u001b[43m,\u001b[49m\n\u001b[1;32m   1174\u001b[0m \u001b[43m            \u001b[49m\u001b[43mcache\u001b[49m\u001b[38;5;241;43m=\u001b[39;49m\u001b[43mcache\u001b[49m\u001b[43m,\u001b[49m\n\u001b[1;32m   1175\u001b[0m \u001b[43m            \u001b[49m\u001b[43muse_fsspec\u001b[49m\u001b[38;5;241;43m=\u001b[39;49m\u001b[43muse_fsspec\u001b[49m\u001b[43m,\u001b[49m\n\u001b[1;32m   1176\u001b[0m \u001b[43m            \u001b[49m\u001b[43mfsspec_kwargs\u001b[49m\u001b[38;5;241;43m=\u001b[39;49m\u001b[43mfsspec_kwargs\u001b[49m\u001b[43m,\u001b[49m\n\u001b[1;32m   1177\u001b[0m \u001b[43m        \u001b[49m\u001b[43m)\u001b[49m\n\u001b[1;32m   1178\u001b[0m     \u001b[38;5;66;03m# The Astropy mode is determined by the _File initializer if the\u001b[39;00m\n\u001b[1;32m   1179\u001b[0m     \u001b[38;5;66;03m# supplied mode was None\u001b[39;00m\n\u001b[1;32m   1180\u001b[0m     mode \u001b[38;5;241m=\u001b[39m fileobj\u001b[38;5;241m.\u001b[39mmode\n",
      "File \u001b[0;32m~/.conda/envs/env1/lib/python3.10/site-packages/astropy/io/fits/file.py:218\u001b[0m, in \u001b[0;36m_File.__init__\u001b[0;34m(self, fileobj, mode, memmap, overwrite, cache, use_fsspec, fsspec_kwargs)\u001b[0m\n\u001b[1;32m    216\u001b[0m     \u001b[38;5;28mself\u001b[39m\u001b[38;5;241m.\u001b[39m_open_fileobj(fileobj, mode, overwrite)\n\u001b[1;32m    217\u001b[0m \u001b[38;5;28;01melif\u001b[39;00m \u001b[38;5;28misinstance\u001b[39m(fileobj, (\u001b[38;5;28mstr\u001b[39m, \u001b[38;5;28mbytes\u001b[39m)):\n\u001b[0;32m--> 218\u001b[0m     \u001b[38;5;28;43mself\u001b[39;49m\u001b[38;5;241;43m.\u001b[39;49m\u001b[43m_open_filename\u001b[49m\u001b[43m(\u001b[49m\u001b[43mfileobj\u001b[49m\u001b[43m,\u001b[49m\u001b[43m \u001b[49m\u001b[43mmode\u001b[49m\u001b[43m,\u001b[49m\u001b[43m \u001b[49m\u001b[43moverwrite\u001b[49m\u001b[43m)\u001b[49m\n\u001b[1;32m    219\u001b[0m \u001b[38;5;28;01melse\u001b[39;00m:\n\u001b[1;32m    220\u001b[0m     \u001b[38;5;28mself\u001b[39m\u001b[38;5;241m.\u001b[39m_open_filelike(fileobj, mode, overwrite)\n",
      "File \u001b[0;32m~/.conda/envs/env1/lib/python3.10/site-packages/astropy/io/fits/file.py:636\u001b[0m, in \u001b[0;36m_File._open_filename\u001b[0;34m(self, filename, mode, overwrite)\u001b[0m\n\u001b[1;32m    633\u001b[0m ext \u001b[38;5;241m=\u001b[39m os\u001b[38;5;241m.\u001b[39mpath\u001b[38;5;241m.\u001b[39msplitext(\u001b[38;5;28mself\u001b[39m\u001b[38;5;241m.\u001b[39mname)[\u001b[38;5;241m1\u001b[39m]\n\u001b[1;32m    635\u001b[0m \u001b[38;5;28;01mif\u001b[39;00m \u001b[38;5;129;01mnot\u001b[39;00m \u001b[38;5;28mself\u001b[39m\u001b[38;5;241m.\u001b[39m_try_read_compressed(\u001b[38;5;28mself\u001b[39m\u001b[38;5;241m.\u001b[39mname, magic, mode, ext\u001b[38;5;241m=\u001b[39mext):\n\u001b[0;32m--> 636\u001b[0m     \u001b[38;5;28mself\u001b[39m\u001b[38;5;241m.\u001b[39m_file \u001b[38;5;241m=\u001b[39m \u001b[38;5;28;43mopen\u001b[39;49m\u001b[43m(\u001b[49m\u001b[38;5;28;43mself\u001b[39;49m\u001b[38;5;241;43m.\u001b[39;49m\u001b[43mname\u001b[49m\u001b[43m,\u001b[49m\u001b[43m \u001b[49m\u001b[43mIO_FITS_MODES\u001b[49m\u001b[43m[\u001b[49m\u001b[43mmode\u001b[49m\u001b[43m]\u001b[49m\u001b[43m)\u001b[49m\n\u001b[1;32m    637\u001b[0m     \u001b[38;5;28mself\u001b[39m\u001b[38;5;241m.\u001b[39mclose_on_error \u001b[38;5;241m=\u001b[39m \u001b[38;5;28;01mTrue\u001b[39;00m\n\u001b[1;32m    639\u001b[0m \u001b[38;5;66;03m# Make certain we're back at the beginning of the file\u001b[39;00m\n\u001b[1;32m    640\u001b[0m \u001b[38;5;66;03m# BZ2File does not support seek when the file is open for writing, but\u001b[39;00m\n\u001b[1;32m    641\u001b[0m \u001b[38;5;66;03m# when opening a file for write, bz2.BZ2File always truncates anyway.\u001b[39;00m\n",
      "\u001b[0;31mFileNotFoundError\u001b[0m: [Errno 2] No such file or directory: 'NGC3982-custom-image-r.bkg.fits'"
     ]
    },
    {
     "data": {
      "image/png": "[encoded data removed]",
      "text/plain": [
       "<Figure size 600x600 with 1 Axes>"
      ]
     },
     "metadata": {},
     "output_type": "display_data"
    }
   ],
   "source": [
    "imname = 'NGC3982-custom-image-r.bkg.fits'\n",
    "fig,ax = plt.subplots(figsize=(6,6))\n",
    "data,header = fits.getdata(imname, header=True)\n",
    "imdisplay(data,v1perc=1,v2perc=99.9,logscale=True)\n",
    "\n",
    "plt.title(imname)"
   ]
  },
  {
   "cell_type": "markdown",
   "metadata": {},
   "source": [
    "This is a code that will take in an image name and data, as well as corners of background boxes, and will measure the background in two different ways."
   ]
  },
  {
   "cell_type": "code",
   "execution_count": null,
   "metadata": {},
   "outputs": [],
   "source": [
    "def background_meas(imname,data,header,fig,ax,corners,bkg_size=5):\n",
    "    #need to find ways to select regions of pixels in image\n",
    "    imdisplay(data,v1perc=1,v2perc=99,logscale=True)\n",
    "\n",
    "    plt.title(imname)\n",
    "\n",
    "    #print out the x and y-dimension of the image using the header keywords\n",
    "    print('image xdim = ', header['NAXIS1'], '; image ydim = ',header['NAXIS2'])\n",
    "    #the length of each background box size\n",
    "    #bkg_size = 200\n",
    "\n",
    "    #make an array whose elements are the different data sections.\n",
    "    reg = np.array([])\n",
    "\n",
    "\n",
    "    #specify the different regions.  Each will be appended to the reg array.  the reg array is therefore 3 dimensional.  \n",
    "    #the first dimension is for each region.  Each of those dimensions contains a 2D array that holds the image section.\n",
    "    reg = np.append(reg, data[corners[0][0]:bkg_size-1, corners[0][1]:bkg_size-1])    #lower left corner\n",
    "    reg = np.append(reg, data[corners[1][0]:bkg_size-1, corners[1][1]:])    #upper left corner\n",
    "    reg = np.append(reg, data[corners[2][0]:, corners[2][1]:])    #upper right corner\n",
    "    reg = np.append(reg, data[corners[3][0]:, corners[3][1]:bkg_size-1])   #lower right corner\n",
    "\n",
    "    #print the median and mode of all the pixels. \n",
    "    bkgmode =stats.mode(reg,keepdims=False)[0]\n",
    "    bkgmed = np.median(reg)\n",
    "    print('mode = ',bkgmode)\n",
    "    print('median = ',bkgmed)\n",
    "\n",
    "    #Overlay rectangles with the background region indicated\n",
    "    rectlist = []\n",
    "    #loop through all images \n",
    "    for corn in corners:\n",
    "        rect = plt.Rectangle((corn),bkg_size, bkg_size,linewidth=2,angle=0.0)\n",
    "        rectlist.append(rect)\n",
    "        pc = PatchCollection(rectlist,linewidth=1,edgecolor='r',facecolor='none')\n",
    "        ax.add_collection(pc)\n",
    "        \n",
    "    return bkgmode,bkgmed"
   ]
  },
  {
   "cell_type": "markdown",
   "metadata": {},
   "source": [
    "\n",
    "Open the image in ds9 and use the log stretch to see if you can define corners of the image that are relatively free of galaxy light at a hard stretch.  You will compute the average pixel value in each of these regions and take the average.  It is ok if there are stars in these regions.  You should have 4 regions for the image.  An example that works for this image is shown below.  \n",
    "\n",
    "**Note**\n",
    "* to make it simpler, the boxes should be equal in size.  You will need to specify the lower left corner of each box.\n",
    "* The images I am providing here have been selected from much larger images from the DESI Legacy Survey https://www.legacysurvey.org/viewer .  Therefore they do not have strange behavior around the edges and you can use the edges of the image as the edges of your sky region without any buffer region."
   ]
  },
  {
   "cell_type": "markdown",
   "metadata": {},
   "source": [
    "To make your coding easier, I'm going to make a bunch of dictionaries such that the main variable name is the same and you only have to change the galaxy name with the galname variable."
   ]
  },
  {
   "cell_type": "code",
   "execution_count": null,
   "metadata": {},
   "outputs": [],
   "source": [
    "#initialize dictionaries that contains names of images and headers\n",
    "imname = {}\n",
    "data = {}\n",
    "header = {}\n",
    "corners = {}\n",
    "bkgdim = {}\n",
    "\n",
    "#statistics of background\n",
    "bkgmode = {}\n",
    "bkgmed = {}"
   ]
  },
  {
   "cell_type": "code",
   "execution_count": null,
   "metadata": {},
   "outputs": [],
   "source": [
    "#a routine to plot the images with the background measurement corners shown in red\n",
    "def bkgregplot(data,header,imname, bkgdim, fig, ax):\n",
    "    #define lower-left corners of each region\n",
    "    corners = []\n",
    "    corners.append([0,0])\n",
    "    corners.append([0,header['NAXIS2']-bkgdim])\n",
    "    corners.append([header['NAXIS1']-bkgdim, header['NAXIS2']-bkgdim])\n",
    "    corners.append([header['NAXIS1']-bkgdim,0])\n",
    "\n",
    "    #run the background_meas code to measure the background and plot the background regions\n",
    "    bkgmode,bkgmed = background_meas(imname, data, header, fig, ax, \n",
    "                                                       corners,bkg_size=bkgdim)\n",
    "    return bkgmode, bkgmed"
   ]
  },
  {
   "cell_type": "markdown",
   "metadata": {},
   "source": [
    "### NGC3982"
   ]
  },
  {
   "cell_type": "code",
   "execution_count": null,
   "metadata": {},
   "outputs": [],
   "source": [
    "galname = 'NGC3982'\n",
    "imname[galname] = 'NGC3982-custom-image-r.bkg.fits'\n",
    "fig,ax = plt.subplots(figsize=(6,6))\n",
    "\n",
    "\n",
    "data[galname],header[galname] = fits.getdata(imname[galname], header=True)\n",
    "\n",
    "#the size of the background squares\n",
    "bkgdim[galname]= 200\n",
    "\n",
    "bkgmode[galname],bkgmed[galname] = bkgregplot(\n",
    "    data[galname], header[galname], imname[galname], bkgdim[galname], fig, ax)\n"
   ]
  },
  {
   "cell_type": "markdown",
   "metadata": {},
   "source": [
    "### NGC5198"
   ]
  },
  {
   "cell_type": "code",
   "execution_count": null,
   "metadata": {},
   "outputs": [],
   "source": [
    "#*******************\n",
    "#write your code here\n",
    "galname = 'NGC5198'\n",
    "imname[galname] = 'NGC5198-custom-image-r.bkg.fits'\n",
    "fig,ax = plt.subplots(figsize=(6,6))\n",
    "\n",
    "\n",
    "data[galname],header[galname] = fits.getdata(imname[galname], header=True)\n",
    "\n",
    "#the size of the background squares\n",
    "bkgdim[galname]= 200\n",
    "\n",
    "bkgmode[galname],bkgmed[galname] = bkgregplot(\n",
    "    data[galname], header[galname], imname[galname], bkgdim[galname], fig, ax)"
   ]
  },
  {
   "cell_type": "markdown",
   "metadata": {},
   "source": [
    "### NGC5985"
   ]
  },
  {
   "cell_type": "code",
   "execution_count": null,
   "metadata": {},
   "outputs": [],
   "source": [
    "#*******************\n",
    "#write your code here\n",
    "galname = 'NGC5985'\n",
    "imname[galname] = 'NGC5985-custom-image-r.bkg.fits'\n",
    "fig,ax = plt.subplots(figsize=(6,6))\n",
    "\n",
    "\n",
    "data[galname],header[galname] = fits.getdata(imname[galname], header=True)\n",
    "\n",
    "#the size of the background squares\n",
    "bkgdim[galname]= 300\n",
    "\n",
    "bkgmode[galname],bkgmed[galname] = bkgregplot(\n",
    "    data[galname], header[galname], imname[galname], bkgdim[galname], fig, ax)"
   ]
  },
  {
   "cell_type": "markdown",
   "metadata": {},
   "source": [
    "### PCG0997820"
   ]
  },
  {
   "cell_type": "code",
   "execution_count": null,
   "metadata": {},
   "outputs": [],
   "source": [
    "#*******************\n",
    "#write your code here\n",
    "galname = 'PGC0997820'\n",
    "imname[galname] = 'PGC099782-custom-image-r.bkg.fits'\n",
    "fig,ax = plt.subplots(figsize=(6,6))\n",
    "\n",
    "data[galname],header[galname] = fits.getdata(imname[galname], header=True)\n",
    "\n",
    "#the size of the background squares\n",
    "bkgdim[galname]= 40\n",
    "\n",
    "bkgmode[galname],bkgmed[galname] = bkgregplot(\n",
    "    data[galname], header[galname], imname[galname], bkgdim[galname], fig, ax)"
   ]
  },
  {
   "cell_type": "markdown",
   "metadata": {},
   "source": [
    "#### 2. subtract background and display subtracted image\n",
    "\n",
    "In this component you will need to:\n",
    "* subtract your background from the previously read in image\n",
    "* display that image\n",
    "* write out your image\n",
    "\n",
    "I provide one example below and you will need to do the other 3.  Note that since counts can be negative, you will need to choose v1perc to make sure that the lowest counts are positive.  The limits of the colorbar scale are printed after the imdisplay() command so you will see how far you are away."
   ]
  },
  {
   "cell_type": "code",
   "execution_count": null,
   "metadata": {},
   "outputs": [],
   "source": [
    "#initializse dictionary that will hold background subtracted images\n",
    "data_bsub = {}"
   ]
  },
  {
   "cell_type": "markdown",
   "metadata": {},
   "source": [
    "### NGC 3982"
   ]
  },
  {
   "cell_type": "code",
   "execution_count": null,
   "metadata": {},
   "outputs": [],
   "source": [
    "galname = 'NGC3982'\n",
    "data_bsub[galname] = data[galname] - bkgmed[galname]\n",
    "fig,ax = plt.subplots(figsize=(6,6))\n",
    "imdisplay(data_bsub[galname],v1perc=40,v2perc=99.9,logscale=True)\n",
    "plt.title(galname + ' background subtracted')"
   ]
  },
  {
   "cell_type": "markdown",
   "metadata": {},
   "source": [
    "### NGC 5198"
   ]
  },
  {
   "cell_type": "code",
   "execution_count": null,
   "metadata": {},
   "outputs": [],
   "source": [
    "#***************\n",
    "#your code goes here\n",
    "galname = 'NGC5198'\n",
    "data_bsub[galname] = data[galname] - bkgmed[galname]\n",
    "fig,ax = plt.subplots(figsize=(6,6))\n",
    "imdisplay(data_bsub[galname],v1perc=40,v2perc=99.9,logscale=True)\n",
    "plt.title(galname + ' background subtracted')"
   ]
  },
  {
   "cell_type": "markdown",
   "metadata": {},
   "source": [
    "### NGC 5985"
   ]
  },
  {
   "cell_type": "code",
   "execution_count": null,
   "metadata": {},
   "outputs": [],
   "source": [
    "#***************\n",
    "#your code goes here\n",
    "galname = 'NGC5985'\n",
    "data_bsub[galname] = data[galname] - bkgmed[galname]\n",
    "fig,ax = plt.subplots(figsize=(6,6))\n",
    "imdisplay(data_bsub[galname],v1perc=40,v2perc=99.9,logscale=True)\n",
    "plt.title(galname + ' background subtracted')"
   ]
  },
  {
   "cell_type": "markdown",
   "metadata": {},
   "source": [
    "### PGC 0997820"
   ]
  },
  {
   "cell_type": "code",
   "execution_count": null,
   "metadata": {},
   "outputs": [],
   "source": [
    "#***************\n",
    "#your code goes here\n",
    "galname = 'PGC0997820'\n",
    "data_bsub[galname] = data[galname] - bkgmed[galname]\n",
    "fig,ax = plt.subplots(figsize=(6,6))\n",
    "imdisplay(data_bsub[galname],v1perc=50,v2perc=99.9,logscale=True)\n",
    "plt.title(galname + ' background subtracted')"
   ]
  },
  {
   "cell_type": "markdown",
   "metadata": {},
   "source": [
    "**Question**: comment on the differences between the images with background and those with background subtracted.  Please describe why you think this is."
   ]
  },
  {
   "cell_type": "markdown",
   "metadata": {},
   "source": [
    "put answer here."
   ]
  },
  {
   "cell_type": "markdown",
   "metadata": {},
   "source": [
    "## Problem 2 - estimate initial guesses for ellipse parameters (15 Points)\n",
    "The `photutils` package that we will be using for doing our photometry requires initial guesses for the center, semi-major axis, ellipticity, and position angle.  We will measure these using DS9.  \n",
    "* xcen, ycen: What you think the center is by using the cursor on ds9\n",
    "\n",
    "* semi-major axis, ellipticity, PA: For the other items you will need to make an elliptical region in ds9 that matches where the brighter part of the galaxy is.  If you double click on the region it will bring up a dialog box that lets you adjust the PA and also will output the semi-major and semi-minor axes, which you will need for the ellipticity measurement.  You should display the information in pixels using the dropdown to the right of the `radius` field in the \"Ellipse\" window.  Choose `Image`\n",
    "\n",
    "**Note**: In ds9, when the first radius in the `Ellipse` window is the semi-major axis, the PA is measured South of East.  This is the same sense as the Elliptical Isophote package in the following problem uses.\n",
    "\n",
    "For each galaxy, provide these intial guesses.  I will be storing these as a python dictionary for each galaxy.\n",
    "\n",
    "These guesses do not need to be super precise but they need to be in the right ballpark."
   ]
  },
  {
   "cell_type": "code",
   "execution_count": null,
   "metadata": {},
   "outputs": [],
   "source": [
    "#initialize the dictionary containing the intial parameters for the ellipse fitting\n",
    "initparams = {}"
   ]
  },
  {
   "cell_type": "markdown",
   "metadata": {},
   "source": [
    "#### NGC 3982"
   ]
  },
  {
   "cell_type": "code",
   "execution_count": null,
   "metadata": {},
   "outputs": [],
   "source": [
    "#initiparams is a dictionary which contains an entry for each galaxy.  That dictionary in turns points to another dictionary with the parameters.\n",
    "galname = 'NGC3982'\n",
    "initparams[galname] = {}\n",
    "initparams[galname]['xcen'] = 541\n",
    "initparams[galname]['ycen'] = 541\n",
    "initparams[galname]['sma'] = 96\n",
    "initparams[galname]['ellip'] = 96./116.\n",
    "initparams[galname]['PA'] = 90.0"
   ]
  },
  {
   "cell_type": "markdown",
   "metadata": {},
   "source": [
    "#### NGC 5198"
   ]
  },
  {
   "cell_type": "code",
   "execution_count": null,
   "metadata": {},
   "outputs": [],
   "source": [
    "#*******************\n",
    "#Your estimates go here.\n",
    "#initiparams is a dictionary which contains an entry for each galaxy.  That dictionary in turns points to another dictionary with the parameters.\n",
    "galname = 'NGC5198'\n",
    "initparams[galname] = {}\n",
    "initparams[galname]['xcen'] = 566\n",
    "initparams[galname]['ycen'] = 566\n",
    "initparams[galname]['sma'] = 75\n",
    "initparams[galname]['ellip'] = 63./75.\n",
    "initparams[galname]['PA'] = 90.0"
   ]
  },
  {
   "cell_type": "markdown",
   "metadata": {},
   "source": [
    "#### NGC 5985"
   ]
  },
  {
   "cell_type": "code",
   "execution_count": null,
   "metadata": {},
   "outputs": [],
   "source": [
    "#*******************\n",
    "#Your estimates go here.\n",
    "#initiparams is a dictionary which contains an entry for each galaxy.  That dictionary in turns points to another dictionary with the parameters.\n",
    "galname = 'NGC5985'\n",
    "initparams[galname] = {}\n",
    "initparams[galname]['xcen'] = 1142\n",
    "initparams[galname]['ycen'] = 1146\n",
    "initparams[galname]['sma'] = 294\n",
    "initparams[galname]['ellip'] = 149./294.\n",
    "initparams[galname]['PA'] = 110.0"
   ]
  },
  {
   "cell_type": "markdown",
   "metadata": {},
   "source": [
    "PGC 0997820"
   ]
  },
  {
   "cell_type": "code",
   "execution_count": null,
   "metadata": {},
   "outputs": [],
   "source": [
    "#*******************\n",
    "#Your estimates go here.\n",
    "#initiparams is a dictionary which contains an entry for each galaxy.  That dictionary in turns points to another dictionary with the parameters.\n",
    "galname = 'PGC0997820'\n",
    "initparams[galname] = {}\n",
    "initparams[galname]['xcen'] = 200\n",
    "initparams[galname]['ycen'] = 200\n",
    "initparams[galname]['sma'] = 44\n",
    "initparams[galname]['ellip'] = 30./44.\n",
    "initparams[galname]['PA'] = 135.0"
   ]
  },
  {
   "cell_type": "markdown",
   "metadata": {},
   "source": [
    "## Problem 3 - fit elliptical isophotes and measure the radial profiles for various ellipse paramters (15 Points)\n",
    "\n",
    "We will now use the `photutils.isophot()` task to fit elliptical isophotes (https://photutils.readthedocs.io/en/stable/isophote.html).  An \"isophote\" is a line of constant surface brightness, akin to a countour on a topographical map.  To get a visual representation of an isophote do the following:\n",
    "* open one of the background subtracted images in ds9 and dislay it in log scale\n",
    "* in the analysis menu open \"contour parameters\" and set the number of countours to 10.  Then hit `Generate` and then `Apply`\n",
    "\n",
    "The green lines on your image connect pixels of identical flux.  Since the pixels have the same area within a given image, these lines therefore connect points of constant surface brightness.\n",
    "\n",
    "The `photutils.isophote()` code that we will be using fits ellipses to the isophotes."
   ]
  },
  {
   "cell_type": "code",
   "execution_count": null,
   "metadata": {},
   "outputs": [],
   "source": [
    "from photutils.isophote import EllipseGeometry\n",
    "from photutils.aperture import EllipticalAperture\n",
    "\n",
    "#define an empty dictionary that will contain the EllipseGeometry instance\n",
    "geometry = {}"
   ]
  },
  {
   "cell_type": "markdown",
   "metadata": {},
   "source": [
    " We must provide the elliptical isophote fitter with an initial ellipse to be fitted. This ellipse geometry is defined with the **EllipseGeometry** class. Here we’ll define an initial ellipse from our answer to problem 2."
   ]
  },
  {
   "cell_type": "markdown",
   "metadata": {},
   "source": [
    "### NGC 3982"
   ]
  },
  {
   "cell_type": "code",
   "execution_count": null,
   "metadata": {},
   "outputs": [],
   "source": [
    "#set up the EllipseGeometry instance with the right initial guess parameters\n",
    "galname = 'NGC3982'\n",
    "geometry[galname] = EllipseGeometry(x0 = initparams[galname]['xcen'], \n",
    "                                      y0 = initparams[galname]['ycen'],\n",
    "                                      sma = initparams[galname]['sma'],\n",
    "                                      eps = initparams[galname]['ellip'],\n",
    "                                      pa = initparams[galname]['PA'] * np.pi/180)   #convert into radians\n",
    "\n",
    "#make an aperture to overplot so that we can check if it makes sense\n",
    "aper = EllipticalAperture((geometry[galname].x0, geometry[galname].y0), geometry[galname].sma, \n",
    "                          geometry[galname].sma * (geometry[galname].eps), geometry[galname].pa)\n",
    "\n",
    "#plot our image\n",
    "fig,ax = plt.subplots(figsize=(6,6))\n",
    "imdisplay(data_bsub[galname],v1perc=40,v2perc=99.9,logscale=True)\n",
    "aper.plot(color='red')"
   ]
  },
  {
   "cell_type": "markdown",
   "metadata": {},
   "source": [
    "### NGC 5198"
   ]
  },
  {
   "cell_type": "code",
   "execution_count": null,
   "metadata": {},
   "outputs": [],
   "source": [
    "#***************************\n",
    "#Your code here\n",
    "#set up the EllipseGeometry instance with the right initial guess parameters\n",
    "galname = 'NGC5198'\n",
    "geometry[galname] = EllipseGeometry(x0 = initparams[galname]['xcen'], \n",
    "                                      y0 = initparams[galname]['ycen'],\n",
    "                                      sma = initparams[galname]['sma'],\n",
    "                                      eps = initparams[galname]['ellip'],\n",
    "                                      pa = initparams[galname]['PA'] * np.pi/180)   #convert into radians\n",
    "\n",
    "#make an aperture to overplot so that we can check if it makes sense\n",
    "aper = EllipticalAperture((geometry[galname].x0, geometry[galname].y0), geometry[galname].sma, \n",
    "                          geometry[galname].sma * (geometry[galname].eps), geometry[galname].pa)\n",
    "\n",
    "#plot our image\n",
    "fig,ax = plt.subplots(figsize=(6,6))\n",
    "imdisplay(data_bsub[galname],v1perc=40,v2perc=99.9,logscale=True)\n",
    "aper.plot(color='red')"
   ]
  },
  {
   "cell_type": "markdown",
   "metadata": {},
   "source": [
    "### NGC 5985"
   ]
  },
  {
   "cell_type": "code",
   "execution_count": null,
   "metadata": {},
   "outputs": [],
   "source": [
    "#***************************\n",
    "#Your code here\n",
    "#set up the EllipseGeometry instance with the right initial guess parameters\n",
    "galname = 'NGC5985'\n",
    "geometry[galname] = EllipseGeometry(x0 = initparams[galname]['xcen'], \n",
    "                                      y0 = initparams[galname]['ycen'],\n",
    "                                      sma = initparams[galname]['sma'],\n",
    "                                      eps = initparams[galname]['ellip'],\n",
    "                                      pa = initparams[galname]['PA'] * np.pi/180)   #convert into radians\n",
    "\n",
    "#make an aperture to overplot so that we can check if it makes sense\n",
    "aper = EllipticalAperture((geometry[galname].x0, geometry[galname].y0), geometry[galname].sma, \n",
    "                          geometry[galname].sma * (geometry[galname].eps), geometry[galname].pa)\n",
    "\n",
    "\n",
    "#plot our image\n",
    "fig,ax = plt.subplots(figsize=(6,6))\n",
    "imdisplay(data_bsub[galname],v1perc=40,v2perc=99.9,logscale=True)\n",
    "aper.plot(color='red')"
   ]
  },
  {
   "cell_type": "markdown",
   "metadata": {},
   "source": [
    "### PGC 0997820"
   ]
  },
  {
   "cell_type": "code",
   "execution_count": null,
   "metadata": {},
   "outputs": [],
   "source": [
    "#***************************\n",
    "#Your code here\n",
    "#set up the EllipseGeometry instance with the right initial guess parameters\n",
    "galname = 'PGC0997820'\n",
    "geometry[galname] = EllipseGeometry(x0 = initparams[galname]['xcen'], \n",
    "                                      y0 = initparams[galname]['ycen'],\n",
    "                                      sma = initparams[galname]['sma'],\n",
    "                                      eps = initparams[galname]['ellip'],\n",
    "                                      pa = initparams[galname]['PA'] * np.pi/180)   #convert into radians\n",
    "\n",
    "#make an aperture to overplot so that we can check if it makes sense\n",
    "aper = EllipticalAperture((geometry[galname].x0, geometry[galname].y0), geometry[galname].sma, \n",
    "                          geometry[galname].sma * (geometry[galname].eps), geometry[galname].pa)\n",
    "\n",
    "#plot our image\n",
    "fig,ax = plt.subplots(figsize=(6,6))\n",
    "imdisplay(data_bsub[galname],v1perc=50,v2perc=99.9,logscale=True)\n",
    "aper.plot(color='red')"
   ]
  },
  {
   "cell_type": "markdown",
   "metadata": {},
   "source": [
    "make a subroutine to plot our outputs of ellipse fitting"
   ]
  },
  {
   "cell_type": "code",
   "execution_count": null,
   "metadata": {},
   "outputs": [],
   "source": [
    "def plotellipse(isolist):\n",
    "    plt.figure(figsize=(8, 8))\n",
    "    plt.subplots_adjust(hspace=0.35, wspace=0.35)\n",
    "\n",
    "    #plot the semi-major axis vs. the ellipticity\n",
    "    plt.subplot(2, 2, 1)\n",
    "    plt.errorbar(isolist.sma, isolist.eps, yerr=isolist.ellip_err,\n",
    "                 fmt='o', markersize=4)\n",
    "    plt.xlabel('Semimajor Axis Length (pix)')\n",
    "    plt.ylabel('Ellipticity')\n",
    "\n",
    "    #plot the semi-major axis vs. the PA\n",
    "    plt.subplot(2, 2, 2)\n",
    "    plt.errorbar(isolist.sma, isolist.pa / np.pi * 180.0,\n",
    "                 yerr=isolist.pa_err / np.pi * 80.0, fmt='o', markersize=4)\n",
    "    plt.xlabel('Semimajor Axis Length (pix)')\n",
    "    plt.ylabel('PA (deg)')\n",
    "\n",
    "    #plot the semi-major axis vs. the x center of that ellipse\n",
    "    plt.subplot(2, 2, 3)\n",
    "    plt.errorbar(isolist.sma, isolist.x0, yerr=isolist.x0_err, fmt='o',\n",
    "                 markersize=4)\n",
    "    plt.xlabel('Semimajor Axis Length (pix)')\n",
    "    plt.ylabel('x0')\n",
    "\n",
    "    #plot the semi-major axis vs. the y center of that ellipse\n",
    "    plt.subplot(2, 2, 4)\n",
    "    plt.errorbar(isolist.sma, isolist.y0, yerr=isolist.y0_err, fmt='o',\n",
    "                 markersize=4)\n",
    "    plt.xlabel('Semimajor Axis Length (pix)')\n",
    "    plt.ylabel('y0')"
   ]
  },
  {
   "cell_type": "markdown",
   "metadata": {},
   "source": [
    "Next, we create an instance of the Ellipse class, inputting the data to be fitted and the initial ellipse geometry object:"
   ]
  },
  {
   "cell_type": "code",
   "execution_count": null,
   "metadata": {},
   "outputs": [],
   "source": [
    "from photutils.isophote import Ellipse\n",
    "\n",
    "#initialize dictionary for ellipse fitting\n",
    "ellipse = {}\n",
    "isolist = {}"
   ]
  },
  {
   "cell_type": "markdown",
   "metadata": {},
   "source": [
    "The values computed by the fitting process are the attributes at this table https://photutils.readthedocs.io/en/stable/api/photutils.isophote.Isophote.html#photutils.isophote.Isophote\n",
    "\n",
    "I will do the first galaxy for you and you will need to do the other three"
   ]
  },
  {
   "cell_type": "markdown",
   "metadata": {},
   "source": [
    "### NGC 3982"
   ]
  },
  {
   "cell_type": "code",
   "execution_count": null,
   "metadata": {},
   "outputs": [],
   "source": [
    "#this will do the fitting of the isophotes by making an instance of the Ellipse class\n",
    "#It then fits the data using the initial guesses we computed above\n",
    "galname = 'NGC3982'\n",
    "ellipse[galname] = Ellipse(data_bsub[galname], geometry[galname])\n",
    "isolist[galname] = ellipse[galname].fit_image()"
   ]
  },
  {
   "cell_type": "code",
   "execution_count": null,
   "metadata": {},
   "outputs": [],
   "source": [
    "#this puts the output into a table containing every ellipse.   \n",
    "#You can comment this first line out if you don't want it always to print out.\n",
    "#print(isolist[galname].to_table())\n",
    "\n",
    "#make a set of plots that show some attributes of every ellipse.\n",
    "plotellipse(isolist[galname])"
   ]
  },
  {
   "cell_type": "markdown",
   "metadata": {},
   "source": [
    "**Question** Describe the behavior of each plot in words and how it relates to the image, as viewed in the cells above or in ds9"
   ]
  },
  {
   "cell_type": "markdown",
   "metadata": {},
   "source": [
    "**put answer in this cell**"
   ]
  },
  {
   "cell_type": "markdown",
   "metadata": {},
   "source": [
    "### NGC 5198"
   ]
  },
  {
   "cell_type": "code",
   "execution_count": null,
   "metadata": {},
   "outputs": [],
   "source": [
    "#***************************\n",
    "#Your code here\n",
    "#this will do the fitting of the isophotes by making an instance of the Ellipse class\n",
    "#It then fits the data using the initial guesses we computed above\n",
    "galname = 'NGC5198'\n",
    "ellipse[galname] = Ellipse(data_bsub[galname], geometry[galname])\n",
    "isolist[galname] = ellipse[galname].fit_image()"
   ]
  },
  {
   "cell_type": "code",
   "execution_count": null,
   "metadata": {},
   "outputs": [],
   "source": [
    "#this puts the output into a table containing every ellipse.   \n",
    "#You can comment this first line out if you don't want it always to print out.\n",
    "#print(isolist[galname].to_table())\n",
    "\n",
    "#make a set of plots that show some attributes of every ellipse.\n",
    "plotellipse(isolist[galname])"
   ]
  },
  {
   "cell_type": "markdown",
   "metadata": {},
   "source": [
    "**Question** Describe the behavior of each plot in words and how it relates to the image, as viewed in the cells above or in ds9"
   ]
  },
  {
   "cell_type": "markdown",
   "metadata": {},
   "source": [
    "**put answer in this cell**"
   ]
  },
  {
   "cell_type": "markdown",
   "metadata": {},
   "source": [
    "### NGC 5985"
   ]
  },
  {
   "cell_type": "code",
   "execution_count": null,
   "metadata": {},
   "outputs": [],
   "source": [
    "#***************************\n",
    "#Your code here\n",
    "#this will do the fitting of the isophotes by making an instance of the Ellipse class\n",
    "#It then fits the data using the initial guesses we computed above\n",
    "galname = 'NGC5985'\n",
    "ellipse[galname] = Ellipse(data_bsub[galname], geometry[galname])\n",
    "isolist[galname] = ellipse[galname].fit_image()"
   ]
  },
  {
   "cell_type": "code",
   "execution_count": null,
   "metadata": {},
   "outputs": [],
   "source": [
    "#this puts the output into a table containing every ellipse.   \n",
    "#You can comment this first line out if you don't want it always to print out.\n",
    "#print(isolist[galname].to_table())\n",
    "\n",
    "#make a set of plots that show some attributes of every ellipse.\n",
    "plotellipse(isolist[galname])"
   ]
  },
  {
   "cell_type": "markdown",
   "metadata": {},
   "source": [
    "**Question** Describe the behavior of each plot in words and how it relates to the image, as viewed in the cells above or in ds9"
   ]
  },
  {
   "cell_type": "markdown",
   "metadata": {},
   "source": [
    "**put answer in this cell**"
   ]
  },
  {
   "cell_type": "markdown",
   "metadata": {},
   "source": [
    "### PGC 0997820"
   ]
  },
  {
   "cell_type": "code",
   "execution_count": null,
   "metadata": {},
   "outputs": [],
   "source": [
    "#***************************\n",
    "#Your code here\n",
    "#this will do the fitting of the isophotes by making an instance of the Ellipse class\n",
    "#It then fits the data using the initial guesses we computed above\n",
    "galname = 'PGC0997820'\n",
    "ellipse[galname] = Ellipse(data_bsub[galname], geometry[galname])\n",
    "isolist[galname] = ellipse[galname].fit_image()"
   ]
  },
  {
   "cell_type": "code",
   "execution_count": null,
   "metadata": {},
   "outputs": [],
   "source": [
    "#this puts the output into a table containing every ellipse.   \n",
    "#You can comment this first line out if you don't want it always to print out.\n",
    "#print(isolist[galname].to_table())\n",
    "\n",
    "#make a set of plots that show some attributes of every ellipse.\n",
    "plotellipse(isolist[galname])"
   ]
  },
  {
   "cell_type": "markdown",
   "metadata": {},
   "source": [
    "**Question** Describe the behavior of each plot in words and how it relates to the image, as viewed in the cells above or in ds9"
   ]
  },
  {
   "cell_type": "markdown",
   "metadata": {},
   "source": [
    "**put answer in this cell**"
   ]
  },
  {
   "cell_type": "markdown",
   "metadata": {},
   "source": [
    "## Problem 4 - measure the half light radius (15 points)\n",
    "\n",
    "To do this we will create something called a \"curve of growth\", which shows how much light you get within each aperture.  As you increase in radius this cumulative flux grows.\n",
    "\n"
   ]
  },
  {
   "cell_type": "markdown",
   "metadata": {},
   "source": [
    "### NGC 3982"
   ]
  },
  {
   "cell_type": "code",
   "execution_count": null,
   "metadata": {},
   "outputs": [],
   "source": [
    "galname = 'NGC3982'\n",
    "plt.figure(figsize=(6, 6))\n",
    "\n",
    "#plot the semi-major axis vs. the total flux within that ellipse.\n",
    "plt.errorbar(isolist[galname].sma, isolist[galname].tflux_e, \n",
    "             fmt='o', markersize=4, color='black')\n",
    "plt.errorbar(isolist[galname].sma, isolist[galname].tflux_e, \n",
    "             fmt='-', markersize=4, color='magenta')\n",
    "\n",
    "#the flux of the last array element\n",
    "print('flux of largest isophote = ', isolist[galname].tflux_e[-1])\n",
    "\n",
    "#a horizontal line at half the total flux\n",
    "plt.axhline(isolist[galname].tflux_e[-1]/2., color='red')\n",
    "\n",
    "#a vertical line at half the total flux\n",
    "#*************************\n",
    "#You will need to adjust rhalfpix by eye to get the radius that encompasses half the light.\n",
    "rhalfpix = 70.\n",
    "plt.axvline(rhalfpix, color='red')\n",
    "\n",
    "#The pixel scale from the header converted from degrees to asec\n",
    "pixscale = header[galname]['CD2_2'] * 3600.    #in asec/pix\n",
    "#***************************\n",
    "#Your code here\n",
    "#*******************\n",
    "#convert the half-light radius from pixels to arcsec\n",
    "#provide the expression to do this.\n",
    "rhalfasec = rhalfpix * pixscale\n",
    "print(f'the half-light radius = {rhalfasec:.3f} [asec]')\n",
    "\n",
    "plt.xlabel('Semimajor Axis Length (pix)')\n",
    "plt.ylabel('flux within ellipse')\n",
    "plt.title(galname)\n"
   ]
  },
  {
   "cell_type": "markdown",
   "metadata": {},
   "source": [
    "### NGC 5198"
   ]
  },
  {
   "cell_type": "code",
   "execution_count": null,
   "metadata": {},
   "outputs": [],
   "source": [
    "galname = 'NGC5198'\n",
    "plt.figure(figsize=(6, 6))\n",
    "\n",
    "#plot the semi-major axis vs. the total flux within that ellipse.\n",
    "plt.errorbar(isolist[galname].sma, isolist[galname].tflux_e, \n",
    "             fmt='o', markersize=4, color='black')\n",
    "plt.errorbar(isolist[galname].sma, isolist[galname].tflux_e, \n",
    "             fmt='-', markersize=4, color='magenta')\n",
    "\n",
    "#the flux of the last array element\n",
    "print('flux of largest isophote = ', isolist[galname].tflux_e[-1])\n",
    "\n",
    "#a horizontal line at half the total flux\n",
    "plt.axhline(isolist[galname].tflux_e[-1]/2., color='red')\n",
    "\n",
    "#a vertical line at half the total flux\n",
    "#*************************\n",
    "#You will need to adjust rhalfpix by eye to get the radius that encompasses half the light.\n",
    "rhalfpix = 80.\n",
    "plt.axvline(rhalfpix, color='red')\n",
    "\n",
    "#The pixel scale from the header converted from degrees to asec\n",
    "pixscale = header[galname]['CD2_2'] * 3600.    #in asec/pix\n",
    "#***************************\n",
    "#Your code here\n",
    "#*******************\n",
    "#convert the half-light radius from pixels to arcsec\n",
    "#provide the expression to do this.\n",
    "rhalfasec = rhalfpix * pixscale\n",
    "print(f'the half-light radius = {rhalfasec:.3f} [asec]')\n",
    "\n",
    "plt.xlabel('Semimajor Axis Length (pix)')\n",
    "plt.ylabel('flux within ellipse')\n",
    "plt.title(galname)\n"
   ]
  },
  {
   "cell_type": "markdown",
   "metadata": {},
   "source": [
    "### NGC 5985"
   ]
  },
  {
   "cell_type": "code",
   "execution_count": null,
   "metadata": {},
   "outputs": [],
   "source": [
    "galname = 'NGC5985'\n",
    "plt.figure(figsize=(6, 6))\n",
    "\n",
    "#plot the semi-major axis vs. the total flux within that ellipse.\n",
    "plt.errorbar(isolist[galname].sma, isolist[galname].tflux_e, \n",
    "             fmt='o', markersize=4, color='black')\n",
    "plt.errorbar(isolist[galname].sma, isolist[galname].tflux_e, \n",
    "             fmt='-', markersize=4, color='magenta')\n",
    "\n",
    "#the flux of the last array element\n",
    "print('flux of largest isophote = ', isolist[galname].tflux_e[-1])\n",
    "\n",
    "#a horizontal line at half the total flux\n",
    "plt.axhline(isolist[galname].tflux_e[-1]/2., color='red')\n",
    "\n",
    "#a vertical line at half the total flux\n",
    "#*************************\n",
    "#You will need to adjust rhalfpix by eye to get the radius that encompasses half the light.\n",
    "rhalfpix = 370.\n",
    "plt.axvline(rhalfpix, color='red')\n",
    "\n",
    "#The pixel scale from the header converted from degrees to asec\n",
    "pixscale = header[galname]['CD2_2'] * 3600.    #in asec/pix\n",
    "#***************************\n",
    "#Your code here\n",
    "#*******************\n",
    "#convert the half-light radius from pixels to arcsec\n",
    "#provide the expression to do this.\n",
    "rhalfasec = rhalfpix * pixscale\n",
    "print(f'the half-light radius = {rhalfasec:.3f} [asec]')\n",
    "\n",
    "plt.xlabel('Semimajor Axis Length (pix)')\n",
    "plt.ylabel('flux within ellipse')\n",
    "plt.title(galname)\n"
   ]
  },
  {
   "cell_type": "markdown",
   "metadata": {},
   "source": [
    "### PGC 0997820"
   ]
  },
  {
   "cell_type": "code",
   "execution_count": null,
   "metadata": {},
   "outputs": [],
   "source": [
    "galname = 'PGC0997820'\n",
    "plt.figure(figsize=(6, 6))\n",
    "\n",
    "#plot the semi-major axis vs. the total flux within that ellipse.\n",
    "plt.errorbar(isolist[galname].sma, isolist[galname].tflux_e, \n",
    "             fmt='o', markersize=4, color='black')\n",
    "plt.errorbar(isolist[galname].sma, isolist[galname].tflux_e, \n",
    "             fmt='-', markersize=4, color='magenta')\n",
    "\n",
    "#the flux of the last array element\n",
    "print('flux of largest isophote = ', isolist[galname].tflux_e[-1])\n",
    "\n",
    "#a horizontal line at half the total flux\n",
    "plt.axhline(isolist[galname].tflux_e[-1]/2., color='red')\n",
    "\n",
    "#a vertical line at half the total flux\n",
    "#*************************\n",
    "#You will need to adjust rhalfpix by eye to get the radius that encompasses half the light.\n",
    "rhalfpix = 22.5\n",
    "plt.axvline(rhalfpix, color='red')\n",
    "\n",
    "#The pixel scale from the header converted from degrees to asec\n",
    "pixscale = header[galname]['CD2_2'] * 3600.    #in asec/pix\n",
    "#***************************\n",
    "#Your code here\n",
    "#*******************\n",
    "#convert the half-light radius from pixels to arcsec\n",
    "#provide the expression to do this.\n",
    "rhalfasec = rhalfpix * pixscale\n",
    "print(f'the half-light radius = {rhalfasec:.3f} [asec]')\n",
    "\n",
    "plt.xlabel('Semimajor Axis Length (pix)')\n",
    "plt.ylabel('flux within ellipse')\n",
    "plt.title(galname)\n"
   ]
  },
  {
   "cell_type": "markdown",
   "metadata": {},
   "source": [
    "**Question** For the galaxies above, answer in words written below each bullet:\n",
    "* For each galaxy how the half-light compares to the visible extent of the galaxy using what you see in the displayed images or in ds9?\n",
    "\n",
    "* For each galaxy, which feature of the curve of growth tells you whether you can establish well what the maximum flux is?\n",
    "\n",
    "* For each galaxy, use imexam to measure the FWHM of the image using stars in the image.  Then quantify how your half-light radius for each galaxy compares to the FWHM.  "
   ]
  }
 ],
 "metadata": {
  "kernelspec": {
   "display_name": "stenv",
   "language": "python",
   "name": "stenv"
  },
  "language_info": {
   "codemirror_mode": {
    "name": "ipython",
    "version": 3
   },
   "file_extension": ".py",
   "mimetype": "text/x-python",
   "name": "python",
   "nbconvert_exporter": "python",
   "pygments_lexer": "ipython3",
   "version": "3.9.16"
  }
 },
 "nbformat": 4,
 "nbformat_minor": 4
}
